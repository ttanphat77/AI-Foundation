{
 "cells": [
  {
   "cell_type": "markdown",
   "metadata": {},
   "source": [
    "# Python in a nutshell"
   ]
  },
  {
   "cell_type": "markdown",
   "metadata": {},
   "source": [
    "### The Zen of Python, by Tim Peters\n",
    "\n",
    "Beautiful is better than ugly.<br/>\n",
    "Explicit is better than implicit.<br/>\n",
    "Simple is better than complex.<br/>\n",
    "Complex is better than complicated.<br/>\n",
    "Flat is better than nested.<br/>\n",
    "Sparse is better than dense.<br/>\n",
    "Readability counts.<br/>\n",
    "Special cases aren't special enough to break the rules.<br/>\n",
    "Although practicality beats purity.<br/>\n",
    "Errors should never pass silently.<br/>\n",
    "Unless explicitly silenced.<br/>\n",
    "In the face of ambiguity, refuse the temptation to guess.<br/>\n",
    "There should be one-- and preferably only one --obvious way to do it.<br/>\n",
    "Although that way may not be obvious at first unless you're Dutch.<br/>\n",
    "Now is better than never.<br/>\n",
    "Although never is often better than *right* now.<br/>\n",
    "If the implementation is hard to explain, it's a bad idea.<br/>\n",
    "If the implementation is easy to explain, it may be a good idea.<br/>\n",
    "Namespaces are one honking great idea -- let's do more of those!"
   ]
  },
  {
   "cell_type": "markdown",
   "metadata": {},
   "source": [
    "### The print() Function"
   ]
  },
  {
   "cell_type": "code",
   "execution_count": null,
   "metadata": {
    "scrolled": true
   },
   "outputs": [],
   "source": [
    "# print \"Hello world\"\n",
    "print('Hello world!')"
   ]
  },
  {
   "cell_type": "code",
   "execution_count": 12,
   "metadata": {},
   "outputs": [
    {
     "name": "stdout",
     "output_type": "stream",
     "text": [
      "Hello Stranger\n"
     ]
    }
   ],
   "source": [
    "# print 'Hello ' and 'Stranger'\n",
    "a = 'Stranger'\n",
    "print('Hello ' + a)"
   ]
  },
  {
   "cell_type": "markdown",
   "metadata": {},
   "source": [
    "### The input() Function"
   ]
  },
  {
   "cell_type": "code",
   "execution_count": 13,
   "metadata": {},
   "outputs": [
    {
     "name": "stdout",
     "output_type": "stream",
     "text": [
      "ok\n"
     ]
    }
   ],
   "source": [
    "# ask for user input and assign to variable 'result'\n",
    "result = input()"
   ]
  },
  {
   "cell_type": "code",
   "execution_count": 14,
   "metadata": {},
   "outputs": [
    {
     "name": "stdout",
     "output_type": "stream",
     "text": [
      "What is your name? Phat\n",
      "Nice to meet you, Phat\n"
     ]
    }
   ],
   "source": [
    "# print message to ask for user input\n",
    "name = input('What is your name? ')\n",
    "print('Nice to meet you, ' + name)"
   ]
  },
  {
   "cell_type": "markdown",
   "metadata": {},
   "source": [
    "### Basic Data Types\n",
    "\n",
    "str - Strings <br/>\n",
    "int - Integers <br/>\n",
    "float - Floating-point numbers <br/>\n",
    "bool - booleans"
   ]
  },
  {
   "cell_type": "markdown",
   "metadata": {},
   "source": [
    "#### Get data type - type()"
   ]
  },
  {
   "cell_type": "code",
   "execution_count": 1,
   "metadata": {},
   "outputs": [
    {
     "name": "stdout",
     "output_type": "stream",
     "text": [
      "<class 'int'>\n"
     ]
    }
   ],
   "source": [
    "# get type of a variable\n",
    "a = 10\n",
    "print(type(a))"
   ]
  },
  {
   "cell_type": "code",
   "execution_count": null,
   "metadata": {},
   "outputs": [],
   "source": []
  },
  {
   "cell_type": "code",
   "execution_count": null,
   "metadata": {},
   "outputs": [],
   "source": []
  },
  {
   "cell_type": "code",
   "execution_count": null,
   "metadata": {},
   "outputs": [],
   "source": [
    " "
   ]
  }
 ],
 "metadata": {
  "celltoolbar": "Raw Cell Format",
  "kernelspec": {
   "display_name": "Python 3",
   "language": "python",
   "name": "python3"
  },
  "language_info": {
   "codemirror_mode": {
    "name": "ipython",
    "version": 3
   },
   "file_extension": ".py",
   "mimetype": "text/x-python",
   "name": "python",
   "nbconvert_exporter": "python",
   "pygments_lexer": "ipython3",
   "version": "3.8.2"
  }
 },
 "nbformat": 4,
 "nbformat_minor": 4
}
